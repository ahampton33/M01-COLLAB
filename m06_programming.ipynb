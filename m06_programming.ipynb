{
 "cells": [
  {
   "cell_type": "code",
   "execution_count": 1,
   "id": "21b3d3b3",
   "metadata": {},
   "outputs": [],
   "source": [
    "import time"
   ]
  },
  {
   "cell_type": "code",
   "execution_count": 2,
   "id": "95929f8d",
   "metadata": {},
   "outputs": [],
   "source": [
    "from datetime import date"
   ]
  },
  {
   "cell_type": "code",
   "execution_count": 3,
   "id": "a917d171",
   "metadata": {},
   "outputs": [],
   "source": [
    "now = date.today()"
   ]
  },
  {
   "cell_type": "code",
   "execution_count": 5,
   "id": "dea134c8",
   "metadata": {},
   "outputs": [],
   "source": [
    "now = str(now)"
   ]
  },
  {
   "cell_type": "code",
   "execution_count": 6,
   "id": "a8d2c767",
   "metadata": {},
   "outputs": [
    {
     "data": {
      "text/plain": [
       "'2022-07-17'"
      ]
     },
     "execution_count": 6,
     "metadata": {},
     "output_type": "execute_result"
    }
   ],
   "source": [
    "now"
   ]
  },
  {
   "cell_type": "code",
   "execution_count": 9,
   "id": "d350e2a0",
   "metadata": {},
   "outputs": [],
   "source": [
    "#13.1\n",
    "f = open('today.txt', 'w')\n",
    "f.write(now)\n",
    "f.close()"
   ]
  },
  {
   "cell_type": "code",
   "execution_count": 10,
   "id": "5d9fa3d9",
   "metadata": {},
   "outputs": [
    {
     "data": {
      "text/plain": [
       "<_io.TextIOWrapper name='today.txt' mode='w' encoding='cp1252'>"
      ]
     },
     "execution_count": 10,
     "metadata": {},
     "output_type": "execute_result"
    }
   ],
   "source": [
    "f"
   ]
  },
  {
   "cell_type": "code",
   "execution_count": 11,
   "id": "eb26974e",
   "metadata": {},
   "outputs": [],
   "source": [
    "#13.2\n",
    "f=open('today.txt','r')\n",
    "today_string = f.readlines()\n",
    "f.close()"
   ]
  },
  {
   "cell_type": "code",
   "execution_count": 13,
   "id": "d192d373",
   "metadata": {},
   "outputs": [
    {
     "name": "stdout",
     "output_type": "stream",
     "text": [
      "['2022-07-17']\n"
     ]
    }
   ],
   "source": [
    "print(today_string)"
   ]
  },
  {
   "cell_type": "code",
   "execution_count": 20,
   "id": "e5d199fb",
   "metadata": {},
   "outputs": [],
   "source": [
    "from datetime import datetime"
   ]
  },
  {
   "cell_type": "code",
   "execution_count": 26,
   "id": "bf6fa351",
   "metadata": {},
   "outputs": [],
   "source": [
    "#13.3\n",
    "today_string = datetime.strptime('2022-07-17', '%Y-%m-%d')"
   ]
  },
  {
   "cell_type": "code",
   "execution_count": 27,
   "id": "5f225564",
   "metadata": {},
   "outputs": [
    {
     "data": {
      "text/plain": [
       "datetime.datetime(2022, 7, 17, 0, 0)"
      ]
     },
     "execution_count": 27,
     "metadata": {},
     "output_type": "execute_result"
    }
   ],
   "source": [
    "today_string"
   ]
  },
  {
   "cell_type": "code",
   "execution_count": 64,
   "id": "2bde6324",
   "metadata": {},
   "outputs": [
    {
     "name": "stdout",
     "output_type": "stream",
     "text": [
      "The current time now is  2022-07-17 17:16:40.594799\n"
     ]
    }
   ],
   "source": [
    "#15.1\n",
    "import multiprocessing\n",
    "import time\n",
    "now =  datetime.datetime.now()\n",
    "\n",
    "vin = time.time()\n",
    "a1 =  multiprocessing.Process(target= Al_work)\n",
    "a2 =  multiprocessing.Process(target= Al_work)\n",
    "a3 =  multiprocessing.Process(target= Al_work)\n",
    "\n",
    "print('The current time now is ', now)\n",
    "if __name__==\"__main__\":\n",
    "    \n",
    "    a1.start()\n",
    "    a2.start()\n",
    "    a3.start()\n",
    "    a1.join()\n",
    "    a2.join()\n",
    "    a3.join()\n",
    "    al = time.time()\n",
    "\n",
    "# print('Done in {:.4f} seconds'.format(al-vin))\n",
    "# print(\"It takes \" +str(al-vin)+\" seconds\")"
   ]
  },
  {
   "cell_type": "code",
   "execution_count": null,
   "id": "dc078206",
   "metadata": {},
   "outputs": [],
   "source": []
  }
 ],
 "metadata": {
  "kernelspec": {
   "display_name": "Python 3 (ipykernel)",
   "language": "python",
   "name": "python3"
  },
  "language_info": {
   "codemirror_mode": {
    "name": "ipython",
    "version": 3
   },
   "file_extension": ".py",
   "mimetype": "text/x-python",
   "name": "python",
   "nbconvert_exporter": "python",
   "pygments_lexer": "ipython3",
   "version": "3.9.7"
  }
 },
 "nbformat": 4,
 "nbformat_minor": 5
}
