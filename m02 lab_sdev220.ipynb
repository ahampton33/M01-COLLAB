{
 "cells": [
  {
   "cell_type": "code",
   "execution_count": null,
   "id": "1965dcc3",
   "metadata": {},
   "outputs": [],
   "source": [
    "last = input('Please enter students last name: ')\n",
    "for name in last:\n",
    "    if last == 'ZZZ':\n",
    "        break\n",
    "first = input('Please enter students first name: ')\n",
    "GPA = input('Please enter student GPA?:')\n",
    "GPA = float(GPA)\n",
    "if GPA >= 3.5:\n",
    "    print(f\"{first}  {last} has made the Dean's list.\")\n",
    "\n",
    "if GPA >= 3.25 and GPA < 3.4999:\n",
    "    print(f\"{first}  {last}  has made the Honor Roll.\")\n",
    "\n",
    "if GPA < 3.25:\n",
    "    print(\"You can do better.\")"
   ]
  }
 ],
 "metadata": {
  "kernelspec": {
   "display_name": "Python 3 (ipykernel)",
   "language": "python",
   "name": "python3"
  },
  "language_info": {
   "codemirror_mode": {
    "name": "ipython",
    "version": 3
   },
   "file_extension": ".py",
   "mimetype": "text/x-python",
   "name": "python",
   "nbconvert_exporter": "python",
   "pygments_lexer": "ipython3",
   "version": "3.9.7"
  }
 },
 "nbformat": 4,
 "nbformat_minor": 5
}
